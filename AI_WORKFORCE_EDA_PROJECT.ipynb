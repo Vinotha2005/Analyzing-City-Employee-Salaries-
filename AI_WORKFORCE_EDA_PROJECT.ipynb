{
<<<<<<< HEAD
  "cells": [
    {
      "cell_type": "markdown",
      "metadata": {
        "id": "_VgFp9OZbvFd"
      },
      "source": [
        "**Part 1 – Basic Data Understanding (Pandas)**"
      ]
    },
    {
      "cell_type": "code",
      "execution_count": 3,
=======
  "nbformat": 4,
  "nbformat_minor": 0,
  "metadata": {
    "colab": {
      "provenance": []
    },
    "kernelspec": {
      "name": "python3",
      "display_name": "Python 3"
    },
    "language_info": {
      "name": "python"
    }
  },
  "cells": [
    {
      "cell_type": "markdown",
      "source": [
        "**Part 1 – Basic Data Understanding (Pandas)**"
      ],
      "metadata": {
        "id": "_VgFp9OZbvFd"
      }
    },
    {
      "cell_type": "code",
      "execution_count": null,
>>>>>>> a264ad26aee8d9b92d02639ba7fc56399599ffa1
      "metadata": {
        "colab": {
          "base_uri": "https://localhost:8080/",
          "height": 206
        },
        "id": "b68ses09bopb",
        "outputId": "612b1ffa-3e45-432d-ebd7-45de59b9ac4e"
      },
      "outputs": [
        {
<<<<<<< HEAD
          "data": {
            "text/html": [
              "<div>\n",
=======
          "output_type": "execute_result",
          "data": {
            "text/plain": [
              "   ID  Experience_Years  Age  Gender  Salary\n",
              "0   1                 5   28  Female  250000\n",
              "1   2                 1   21    Male   50000\n",
              "2   3                 3   23  Female  170000\n",
              "3   4                 2   22    Male   25000\n",
              "4   5                 1   17    Male   10000"
            ],
            "text/html": [
              "\n",
              "  <div id=\"df-f8f19e8d-6244-4794-9d61-9a99dfe6b8eb\" class=\"colab-df-container\">\n",
              "    <div>\n",
>>>>>>> a264ad26aee8d9b92d02639ba7fc56399599ffa1
              "<style scoped>\n",
              "    .dataframe tbody tr th:only-of-type {\n",
              "        vertical-align: middle;\n",
              "    }\n",
              "\n",
              "    .dataframe tbody tr th {\n",
              "        vertical-align: top;\n",
              "    }\n",
              "\n",
              "    .dataframe thead th {\n",
              "        text-align: right;\n",
              "    }\n",
              "</style>\n",
              "<table border=\"1\" class=\"dataframe\">\n",
              "  <thead>\n",
              "    <tr style=\"text-align: right;\">\n",
              "      <th></th>\n",
              "      <th>ID</th>\n",
              "      <th>Experience_Years</th>\n",
              "      <th>Age</th>\n",
              "      <th>Gender</th>\n",
              "      <th>Salary</th>\n",
              "    </tr>\n",
              "  </thead>\n",
              "  <tbody>\n",
              "    <tr>\n",
              "      <th>0</th>\n",
              "      <td>1</td>\n",
              "      <td>5</td>\n",
              "      <td>28</td>\n",
              "      <td>Female</td>\n",
              "      <td>250000</td>\n",
              "    </tr>\n",
              "    <tr>\n",
              "      <th>1</th>\n",
              "      <td>2</td>\n",
              "      <td>1</td>\n",
              "      <td>21</td>\n",
              "      <td>Male</td>\n",
              "      <td>50000</td>\n",
              "    </tr>\n",
              "    <tr>\n",
              "      <th>2</th>\n",
              "      <td>3</td>\n",
              "      <td>3</td>\n",
              "      <td>23</td>\n",
              "      <td>Female</td>\n",
              "      <td>170000</td>\n",
              "    </tr>\n",
              "    <tr>\n",
              "      <th>3</th>\n",
              "      <td>4</td>\n",
              "      <td>2</td>\n",
              "      <td>22</td>\n",
              "      <td>Male</td>\n",
              "      <td>25000</td>\n",
              "    </tr>\n",
              "    <tr>\n",
              "      <th>4</th>\n",
              "      <td>5</td>\n",
              "      <td>1</td>\n",
              "      <td>17</td>\n",
              "      <td>Male</td>\n",
              "      <td>10000</td>\n",
              "    </tr>\n",
              "  </tbody>\n",
              "</table>\n",
<<<<<<< HEAD
              "</div>"
            ],
            "text/plain": [
              "   ID  Experience_Years  Age  Gender  Salary\n",
              "0   1                 5   28  Female  250000\n",
              "1   2                 1   21    Male   50000\n",
              "2   3                 3   23  Female  170000\n",
              "3   4                 2   22    Male   25000\n",
              "4   5                 1   17    Male   10000"
            ]
          },
          "execution_count": 3,
          "metadata": {},
          "output_type": "execute_result"
=======
              "</div>\n",
              "    <div class=\"colab-df-buttons\">\n",
              "\n",
              "  <div class=\"colab-df-container\">\n",
              "    <button class=\"colab-df-convert\" onclick=\"convertToInteractive('df-f8f19e8d-6244-4794-9d61-9a99dfe6b8eb')\"\n",
              "            title=\"Convert this dataframe to an interactive table.\"\n",
              "            style=\"display:none;\">\n",
              "\n",
              "  <svg xmlns=\"http://www.w3.org/2000/svg\" height=\"24px\" viewBox=\"0 -960 960 960\">\n",
              "    <path d=\"M120-120v-720h720v720H120Zm60-500h600v-160H180v160Zm220 220h160v-160H400v160Zm0 220h160v-160H400v160ZM180-400h160v-160H180v160Zm440 0h160v-160H620v160ZM180-180h160v-160H180v160Zm440 0h160v-160H620v160Z\"/>\n",
              "  </svg>\n",
              "    </button>\n",
              "\n",
              "  <style>\n",
              "    .colab-df-container {\n",
              "      display:flex;\n",
              "      gap: 12px;\n",
              "    }\n",
              "\n",
              "    .colab-df-convert {\n",
              "      background-color: #E8F0FE;\n",
              "      border: none;\n",
              "      border-radius: 50%;\n",
              "      cursor: pointer;\n",
              "      display: none;\n",
              "      fill: #1967D2;\n",
              "      height: 32px;\n",
              "      padding: 0 0 0 0;\n",
              "      width: 32px;\n",
              "    }\n",
              "\n",
              "    .colab-df-convert:hover {\n",
              "      background-color: #E2EBFA;\n",
              "      box-shadow: 0px 1px 2px rgba(60, 64, 67, 0.3), 0px 1px 3px 1px rgba(60, 64, 67, 0.15);\n",
              "      fill: #174EA6;\n",
              "    }\n",
              "\n",
              "    .colab-df-buttons div {\n",
              "      margin-bottom: 4px;\n",
              "    }\n",
              "\n",
              "    [theme=dark] .colab-df-convert {\n",
              "      background-color: #3B4455;\n",
              "      fill: #D2E3FC;\n",
              "    }\n",
              "\n",
              "    [theme=dark] .colab-df-convert:hover {\n",
              "      background-color: #434B5C;\n",
              "      box-shadow: 0px 1px 3px 1px rgba(0, 0, 0, 0.15);\n",
              "      filter: drop-shadow(0px 1px 2px rgba(0, 0, 0, 0.3));\n",
              "      fill: #FFFFFF;\n",
              "    }\n",
              "  </style>\n",
              "\n",
              "    <script>\n",
              "      const buttonEl =\n",
              "        document.querySelector('#df-f8f19e8d-6244-4794-9d61-9a99dfe6b8eb button.colab-df-convert');\n",
              "      buttonEl.style.display =\n",
              "        google.colab.kernel.accessAllowed ? 'block' : 'none';\n",
              "\n",
              "      async function convertToInteractive(key) {\n",
              "        const element = document.querySelector('#df-f8f19e8d-6244-4794-9d61-9a99dfe6b8eb');\n",
              "        const dataTable =\n",
              "          await google.colab.kernel.invokeFunction('convertToInteractive',\n",
              "                                                    [key], {});\n",
              "        if (!dataTable) return;\n",
              "\n",
              "        const docLinkHtml = 'Like what you see? Visit the ' +\n",
              "          '<a target=\"_blank\" href=https://colab.research.google.com/notebooks/data_table.ipynb>data table notebook</a>'\n",
              "          + ' to learn more about interactive tables.';\n",
              "        element.innerHTML = '';\n",
              "        dataTable['output_type'] = 'display_data';\n",
              "        await google.colab.output.renderOutput(dataTable, element);\n",
              "        const docLink = document.createElement('div');\n",
              "        docLink.innerHTML = docLinkHtml;\n",
              "        element.appendChild(docLink);\n",
              "      }\n",
              "    </script>\n",
              "  </div>\n",
              "\n",
              "\n",
              "    <div id=\"df-843f8193-27b0-4392-beb7-2d40adaac9ae\">\n",
              "      <button class=\"colab-df-quickchart\" onclick=\"quickchart('df-843f8193-27b0-4392-beb7-2d40adaac9ae')\"\n",
              "                title=\"Suggest charts\"\n",
              "                style=\"display:none;\">\n",
              "\n",
              "<svg xmlns=\"http://www.w3.org/2000/svg\" height=\"24px\"viewBox=\"0 0 24 24\"\n",
              "     width=\"24px\">\n",
              "    <g>\n",
              "        <path d=\"M19 3H5c-1.1 0-2 .9-2 2v14c0 1.1.9 2 2 2h14c1.1 0 2-.9 2-2V5c0-1.1-.9-2-2-2zM9 17H7v-7h2v7zm4 0h-2V7h2v10zm4 0h-2v-4h2v4z\"/>\n",
              "    </g>\n",
              "</svg>\n",
              "      </button>\n",
              "\n",
              "<style>\n",
              "  .colab-df-quickchart {\n",
              "      --bg-color: #E8F0FE;\n",
              "      --fill-color: #1967D2;\n",
              "      --hover-bg-color: #E2EBFA;\n",
              "      --hover-fill-color: #174EA6;\n",
              "      --disabled-fill-color: #AAA;\n",
              "      --disabled-bg-color: #DDD;\n",
              "  }\n",
              "\n",
              "  [theme=dark] .colab-df-quickchart {\n",
              "      --bg-color: #3B4455;\n",
              "      --fill-color: #D2E3FC;\n",
              "      --hover-bg-color: #434B5C;\n",
              "      --hover-fill-color: #FFFFFF;\n",
              "      --disabled-bg-color: #3B4455;\n",
              "      --disabled-fill-color: #666;\n",
              "  }\n",
              "\n",
              "  .colab-df-quickchart {\n",
              "    background-color: var(--bg-color);\n",
              "    border: none;\n",
              "    border-radius: 50%;\n",
              "    cursor: pointer;\n",
              "    display: none;\n",
              "    fill: var(--fill-color);\n",
              "    height: 32px;\n",
              "    padding: 0;\n",
              "    width: 32px;\n",
              "  }\n",
              "\n",
              "  .colab-df-quickchart:hover {\n",
              "    background-color: var(--hover-bg-color);\n",
              "    box-shadow: 0 1px 2px rgba(60, 64, 67, 0.3), 0 1px 3px 1px rgba(60, 64, 67, 0.15);\n",
              "    fill: var(--button-hover-fill-color);\n",
              "  }\n",
              "\n",
              "  .colab-df-quickchart-complete:disabled,\n",
              "  .colab-df-quickchart-complete:disabled:hover {\n",
              "    background-color: var(--disabled-bg-color);\n",
              "    fill: var(--disabled-fill-color);\n",
              "    box-shadow: none;\n",
              "  }\n",
              "\n",
              "  .colab-df-spinner {\n",
              "    border: 2px solid var(--fill-color);\n",
              "    border-color: transparent;\n",
              "    border-bottom-color: var(--fill-color);\n",
              "    animation:\n",
              "      spin 1s steps(1) infinite;\n",
              "  }\n",
              "\n",
              "  @keyframes spin {\n",
              "    0% {\n",
              "      border-color: transparent;\n",
              "      border-bottom-color: var(--fill-color);\n",
              "      border-left-color: var(--fill-color);\n",
              "    }\n",
              "    20% {\n",
              "      border-color: transparent;\n",
              "      border-left-color: var(--fill-color);\n",
              "      border-top-color: var(--fill-color);\n",
              "    }\n",
              "    30% {\n",
              "      border-color: transparent;\n",
              "      border-left-color: var(--fill-color);\n",
              "      border-top-color: var(--fill-color);\n",
              "      border-right-color: var(--fill-color);\n",
              "    }\n",
              "    40% {\n",
              "      border-color: transparent;\n",
              "      border-right-color: var(--fill-color);\n",
              "      border-top-color: var(--fill-color);\n",
              "    }\n",
              "    60% {\n",
              "      border-color: transparent;\n",
              "      border-right-color: var(--fill-color);\n",
              "    }\n",
              "    80% {\n",
              "      border-color: transparent;\n",
              "      border-right-color: var(--fill-color);\n",
              "      border-bottom-color: var(--fill-color);\n",
              "    }\n",
              "    90% {\n",
              "      border-color: transparent;\n",
              "      border-bottom-color: var(--fill-color);\n",
              "    }\n",
              "  }\n",
              "</style>\n",
              "\n",
              "      <script>\n",
              "        async function quickchart(key) {\n",
              "          const quickchartButtonEl =\n",
              "            document.querySelector('#' + key + ' button');\n",
              "          quickchartButtonEl.disabled = true;  // To prevent multiple clicks.\n",
              "          quickchartButtonEl.classList.add('colab-df-spinner');\n",
              "          try {\n",
              "            const charts = await google.colab.kernel.invokeFunction(\n",
              "                'suggestCharts', [key], {});\n",
              "          } catch (error) {\n",
              "            console.error('Error during call to suggestCharts:', error);\n",
              "          }\n",
              "          quickchartButtonEl.classList.remove('colab-df-spinner');\n",
              "          quickchartButtonEl.classList.add('colab-df-quickchart-complete');\n",
              "        }\n",
              "        (() => {\n",
              "          let quickchartButtonEl =\n",
              "            document.querySelector('#df-843f8193-27b0-4392-beb7-2d40adaac9ae button');\n",
              "          quickchartButtonEl.style.display =\n",
              "            google.colab.kernel.accessAllowed ? 'block' : 'none';\n",
              "        })();\n",
              "      </script>\n",
              "    </div>\n",
              "\n",
              "    </div>\n",
              "  </div>\n"
            ],
            "application/vnd.google.colaboratory.intrinsic+json": {
              "type": "dataframe",
              "variable_name": "df",
              "summary": "{\n  \"name\": \"df\",\n  \"rows\": 35,\n  \"fields\": [\n    {\n      \"column\": \"ID\",\n      \"properties\": {\n        \"dtype\": \"number\",\n        \"std\": 10,\n        \"min\": 1,\n        \"max\": 35,\n        \"num_unique_values\": 35,\n        \"samples\": [\n          27,\n          14,\n          25\n        ],\n        \"semantic_type\": \"\",\n        \"description\": \"\"\n      }\n    },\n    {\n      \"column\": \"Experience_Years\",\n      \"properties\": {\n        \"dtype\": \"number\",\n        \"std\": 7,\n        \"min\": 1,\n        \"max\": 27,\n        \"num_unique_values\": 15,\n        \"samples\": [\n          6,\n          11,\n          5\n        ],\n        \"semantic_type\": \"\",\n        \"description\": \"\"\n      }\n    },\n    {\n      \"column\": \"Age\",\n      \"properties\": {\n        \"dtype\": \"number\",\n        \"std\": 14,\n        \"min\": 17,\n        \"max\": 62,\n        \"num_unique_values\": 18,\n        \"samples\": [\n          28,\n          21,\n          26\n        ],\n        \"semantic_type\": \"\",\n        \"description\": \"\"\n      }\n    },\n    {\n      \"column\": \"Gender\",\n      \"properties\": {\n        \"dtype\": \"category\",\n        \"num_unique_values\": 2,\n        \"samples\": [\n          \"Male\",\n          \"Female\"\n        ],\n        \"semantic_type\": \"\",\n        \"description\": \"\"\n      }\n    },\n    {\n      \"column\": \"Salary\",\n      \"properties\": {\n        \"dtype\": \"number\",\n        \"std\": 3170123,\n        \"min\": 3000,\n        \"max\": 10000000,\n        \"num_unique_values\": 33,\n        \"samples\": [\n          9300000,\n          930000\n        ],\n        \"semantic_type\": \"\",\n        \"description\": \"\"\n      }\n    }\n  ]\n}"
            }
          },
          "metadata": {},
          "execution_count": 4
>>>>>>> a264ad26aee8d9b92d02639ba7fc56399599ffa1
        }
      ],
      "source": [
        "import pandas as pd\n",
        "import numpy as np\n",
        "import matplotlib.pyplot as plt\n",
        "import seaborn as sns\n",
        "from sympy import symbols, diff, simplify\n",
        "\n",
<<<<<<< HEAD
        "df=pd.read_csv('C:/Users/vinot/Downloads/Employee_Salary_Dataset.csv')\n",
=======
        "df=pd.read_csv('/content/Employee_Salary_Dataset.csv')\n",
>>>>>>> a264ad26aee8d9b92d02639ba7fc56399599ffa1
        "\n",
        "df.head()\n",
        "\n"
      ]
    },
    {
      "cell_type": "code",
<<<<<<< HEAD
      "execution_count": 4,
      "metadata": {
        "colab": {
          "base_uri": "https://localhost:8080/"
        },
        "id": "SHG1KOH2sn7W",
        "outputId": "66a679f7-54e5-41d4-9b11-d1883b0c40b2"
      },
      "outputs": [
        {
          "name": "stdout",
          "output_type": "stream",
=======
      "source": [
        "\n",
        "print(df.shape)\n",
        "\n",
        "print(df.dtypes)\n",
        "\n",
        "print(df.isnull().sum())\n",
        "\n",
        "print(df.describe(include=\"all\"))\n",
        "\n",
        "print(df.duplicated().sum())"
      ],
      "metadata": {
        "id": "SHG1KOH2sn7W",
        "colab": {
          "base_uri": "https://localhost:8080/"
        },
        "outputId": "66a679f7-54e5-41d4-9b11-d1883b0c40b2"
      },
      "execution_count": null,
      "outputs": [
        {
          "output_type": "stream",
          "name": "stdout",
>>>>>>> a264ad26aee8d9b92d02639ba7fc56399599ffa1
          "text": [
            "(35, 5)\n",
            "ID                   int64\n",
            "Experience_Years     int64\n",
            "Age                  int64\n",
            "Gender              object\n",
            "Salary               int64\n",
            "dtype: object\n",
            "ID                  0\n",
            "Experience_Years    0\n",
            "Age                 0\n",
            "Gender              0\n",
            "Salary              0\n",
            "dtype: int64\n",
            "               ID  Experience_Years        Age  Gender        Salary\n",
            "count   35.000000          35.00000  35.000000      35  3.500000e+01\n",
            "unique        NaN               NaN        NaN       2           NaN\n",
            "top           NaN               NaN        NaN  Female           NaN\n",
            "freq          NaN               NaN        NaN      18           NaN\n",
            "mean    18.000000           9.20000  35.485714     NaN  2.059147e+06\n",
            "std     10.246951           7.55295  14.643552     NaN  3.170124e+06\n",
            "min      1.000000           1.00000  17.000000     NaN  3.000000e+03\n",
            "25%      9.500000           2.50000  22.500000     NaN  2.250000e+04\n",
            "50%     18.000000           6.00000  29.000000     NaN  2.500000e+05\n",
            "75%     26.500000          15.00000  53.500000     NaN  3.270000e+06\n",
            "max     35.000000          27.00000  62.000000     NaN  1.000000e+07\n",
            "0\n"
          ]
        }
<<<<<<< HEAD
      ],
      "source": [
        "\n",
        "print(df.shape)\n",
        "\n",
        "print(df.dtypes)\n",
        "\n",
        "print(df.isnull().sum())\n",
        "\n",
        "print(df.describe(include=\"all\"))\n",
        "\n",
        "print(df.duplicated().sum())"
=======
>>>>>>> a264ad26aee8d9b92d02639ba7fc56399599ffa1
      ]
    },
    {
      "cell_type": "markdown",
<<<<<<< HEAD
      "metadata": {
        "id": "XkgUUWWIeqdO"
      },
      "source": [
        "**Part 2 – EDA (Exploratory Data Analysis)**"
      ]
    },
    {
      "cell_type": "code",
      "execution_count": 5,
=======
      "source": [
        "**Part 2 – EDA (Exploratory Data Analysis)**"
      ],
      "metadata": {
        "id": "XkgUUWWIeqdO"
      }
    },
    {
      "cell_type": "code",
      "source": [
        "df[\"Experience_Years\"].hist(bins=20); plt.title(\"Experience Distribution\"); plt.show()\n",
        "df[\"Salary\"].hist(bins=20); plt.title(\"Salary Distribution\"); plt.show()\n",
        "\n",
        "plt.scatter(df[\"Experience_Years\"], df[\"Salary\"])\n",
        "plt.xlabel(\"Experience\"); plt.ylabel(\"Salary\"); plt.title(\"Experience vs Salary\"); plt.show()\n",
        "\n",
        "print(\"Top 5 by Salary:\\n\", df.nlargest(5,\"Salary\"))\n",
        "print(\"Bottom 5 by Experience:\\n\", df.nsmallest(5,\"Experience_Years\"))\n",
        "\n",
        "df.boxplot(column=\"Salary\"); plt.title(\"Salary Outliers\"); plt.show()\n"
      ],
>>>>>>> a264ad26aee8d9b92d02639ba7fc56399599ffa1
      "metadata": {
        "colab": {
          "base_uri": "https://localhost:8080/",
          "height": 1000
        },
        "id": "M6KLYtMCt2Go",
        "outputId": "6b9b6141-2331-4cca-9c4f-6236c358e488"
      },
<<<<<<< HEAD
      "outputs": [
        {
          "data": {
            "image/png": "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",
            "text/plain": [
              "<Figure size 640x480 with 1 Axes>"
            ]
          },
          "metadata": {},
          "output_type": "display_data"
        },
        {
          "data": {
            "image/png": "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",
            "text/plain": [
              "<Figure size 640x480 with 1 Axes>"
            ]
          },
          "metadata": {},
          "output_type": "display_data"
        },
        {
          "data": {
            "image/png": "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",
            "text/plain": [
              "<Figure size 640x480 with 1 Axes>"
            ]
          },
          "metadata": {},
          "output_type": "display_data"
        },
        {
          "name": "stdout",
          "output_type": "stream",
=======
      "execution_count": null,
      "outputs": [
        {
          "output_type": "display_data",
          "data": {
            "text/plain": [
              "<Figure size 640x480 with 1 Axes>"
            ],
            "image/png": "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\n"
          },
          "metadata": {}
        },
        {
          "output_type": "display_data",
          "data": {
            "text/plain": [
              "<Figure size 640x480 with 1 Axes>"
            ],
            "image/png": "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\n"
          },
          "metadata": {}
        },
        {
          "output_type": "display_data",
          "data": {
            "text/plain": [
              "<Figure size 640x480 with 1 Axes>"
            ],
            "image/png": "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\n"
          },
          "metadata": {}
        },
        {
          "output_type": "stream",
          "name": "stdout",
>>>>>>> a264ad26aee8d9b92d02639ba7fc56399599ffa1
          "text": [
            "Top 5 by Salary:\n",
            "     ID  Experience_Years  Age  Gender    Salary\n",
            "27  28                27   62  Female  10000000\n",
            "33  34                19   53  Female   9300000\n",
            "17  18                15   54  Female   7900000\n",
            "34  35                16   49    Male   7600000\n",
            "22  23                 5   29    Male   6845000\n",
            "Bottom 5 by Experience:\n",
            "     ID  Experience_Years  Age  Gender  Salary\n",
            "1    2                 1   21    Male   50000\n",
            "4    5                 1   17    Male   10000\n",
            "23  24                 1   21  Female    6000\n",
            "26  27                 1   18    Male    3000\n",
            "3    4                 2   22    Male   25000\n"
          ]
        },
        {
<<<<<<< HEAD
          "data": {
            "image/png": "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",
            "text/plain": [
              "<Figure size 640x480 with 1 Axes>"
            ]
          },
          "metadata": {},
          "output_type": "display_data"
        }
      ],
      "source": [
        "df[\"Experience_Years\"].hist(bins=20); plt.title(\"Experience Distribution\"); plt.show()\n",
        "df[\"Salary\"].hist(bins=20); plt.title(\"Salary Distribution\"); plt.show()\n",
        "\n",
        "plt.scatter(df[\"Experience_Years\"], df[\"Salary\"])\n",
        "plt.xlabel(\"Experience\"); plt.ylabel(\"Salary\"); plt.title(\"Experience vs Salary\"); plt.show()\n",
        "\n",
        "print(\"Top 5 by Salary:\\n\", df.nlargest(5,\"Salary\"))\n",
        "print(\"Bottom 5 by Experience:\\n\", df.nsmallest(5,\"Experience_Years\"))\n",
        "\n",
        "df.boxplot(column=\"Salary\"); plt.title(\"Salary Outliers\"); plt.show()\n"
=======
          "output_type": "display_data",
          "data": {
            "text/plain": [
              "<Figure size 640x480 with 1 Axes>"
            ],
            "image/png": "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\n"
          },
          "metadata": {}
        }
>>>>>>> a264ad26aee8d9b92d02639ba7fc56399599ffa1
      ]
    },
    {
      "cell_type": "markdown",
<<<<<<< HEAD
      "metadata": {
        "id": "umrGjW44vfhE"
      },
      "source": [
        "**Part 3: Statistics**"
      ]
    },
    {
      "cell_type": "code",
      "execution_count": 6,
      "metadata": {
        "colab": {
          "base_uri": "https://localhost:8080/"
        },
        "id": "bidu0ypKvo2I",
        "outputId": "d30ad72f-87f3-4e69-d13c-17a5d815bf47"
      },
      "outputs": [
        {
          "name": "stdout",
          "output_type": "stream",
          "text": [
            "Mean Salary: 2059147.142857143\n",
            "Median Salary: 250000.0\n",
            "Mode Salary: 25000\n",
            "Variance: 10049683866903.361\n",
            "Std Dev: 3170123.635901818\n",
            "Correlation (Experience vs Salary): 0.6855999775494617\n",
            "Probaility(ROI>50%) = 0.6285714285714286\n"
          ]
        }
      ],
=======
      "source": [
        "**Part 3: Statistics**"
      ],
      "metadata": {
        "id": "umrGjW44vfhE"
      }
    },
    {
      "cell_type": "code",
>>>>>>> a264ad26aee8d9b92d02639ba7fc56399599ffa1
      "source": [
        "print(\"Mean Salary:\", df[\"Salary\"].mean())\n",
        "print(\"Median Salary:\", df[\"Salary\"].median())\n",
        "print(\"Mode Salary:\", df[\"Salary\"].mode()[0])\n",
        "print(\"Variance:\", df[\"Salary\"].var())\n",
        "print(\"Std Dev:\", df[\"Salary\"].std())\n",
        "print(\"Correlation (Experience vs Salary):\", df[\"Experience_Years\"].corr(df[\"Salary\"]))\n",
        "\n",
        "df[\"Investment\"] = df[\"Experience_Years\"]*10000\n",
        "df[\"ROI\"] = (df[\"Salary\"] - df[\"Investment\"]) / df[\"Investment\"] * 100\n",
        "print(\"Probaility(ROI>50%) =\", (df[\"ROI\"]>50).mean())"
<<<<<<< HEAD
      ]
    },
    {
      "cell_type": "markdown",
      "metadata": {
        "id": "zfcDuK9cv3y6"
      },
      "source": [
        "**Part 4: Linear Algebra**\n",
        "\n"
      ]
    },
    {
      "cell_type": "code",
      "execution_count": 7,
=======
      ],
>>>>>>> a264ad26aee8d9b92d02639ba7fc56399599ffa1
      "metadata": {
        "colab": {
          "base_uri": "https://localhost:8080/"
        },
<<<<<<< HEAD
        "id": "gHh7PCehv9Gs",
        "outputId": "12ae9759-0e59-4fa9-a37a-cd27ed67bb7f"
      },
      "outputs": [
        {
          "name": "stdout",
          "output_type": "stream",
          "text": [
            "Dot Product: 12211846000000\n",
            "Matrix Mult (first 5): [150000.  30000. 100000.  22500.  10000.]\n"
          ]
        }
      ],
=======
        "id": "bidu0ypKvo2I",
        "outputId": "d30ad72f-87f3-4e69-d13c-17a5d815bf47"
      },
      "execution_count": null,
      "outputs": [
        {
          "output_type": "stream",
          "name": "stdout",
          "text": [
            "Mean Salary: 2059147.142857143\n",
            "Median Salary: 250000.0\n",
            "Mode Salary: 25000\n",
            "Variance: 10049683866903.361\n",
            "Std Dev: 3170123.635901818\n",
            "Correlation (Experience vs Salary): 0.6855999775494617\n",
            "Probability(ROI>50%) = 0.6285714285714286\n"
          ]
        }
      ]
    },
    {
      "cell_type": "markdown",
      "source": [
        "**Part 4: Linear Algebra**\n",
        "\n"
      ],
      "metadata": {
        "id": "zfcDuK9cv3y6"
      }
    },
    {
      "cell_type": "code",
>>>>>>> a264ad26aee8d9b92d02639ba7fc56399599ffa1
      "source": [
        "invest = df[\"Investment\"].values\n",
        "rev = df[\"Salary\"].values\n",
        "print(\"Dot Product:\", np.dot(invest, rev))\n",
        "features = np.vstack([invest,rev]).T\n",
        "weights = np.array([0.5,0.5])\n",
        "print(\"Matrix Mult (first 5):\", (features @ weights)[:5])"
<<<<<<< HEAD
      ]
    },
    {
      "cell_type": "markdown",
      "metadata": {
        "id": "M1FBwwxwwMBu"
      },
      "source": [
        "**Part 5: Calculus**"
      ]
    },
    {
      "cell_type": "code",
      "execution_count": 8,
=======
      ],
>>>>>>> a264ad26aee8d9b92d02639ba7fc56399599ffa1
      "metadata": {
        "colab": {
          "base_uri": "https://localhost:8080/"
        },
<<<<<<< HEAD
        "id": "inidjs-bwTnQ",
        "outputId": "95605842-6f4d-4395-f164-b029b369af03"
      },
      "outputs": [
        {
          "name": "stdout",
          "output_type": "stream",
          "text": [
            "ROI Expression: (-I + R)/I\n",
            "Derivative wrt I: -R/I**2\n"
          ]
        }
      ],
=======
        "id": "gHh7PCehv9Gs",
        "outputId": "12ae9759-0e59-4fa9-a37a-cd27ed67bb7f"
      },
      "execution_count": null,
      "outputs": [
        {
          "output_type": "stream",
          "name": "stdout",
          "text": [
            "Dot Product: 12211846000000\n",
            "Matrix Mult (first 5): [150000.  30000. 100000.  22500.  10000.]\n"
          ]
        }
      ]
    },
    {
      "cell_type": "markdown",
      "source": [
        "**Part 5: Calculus**"
      ],
      "metadata": {
        "id": "M1FBwwxwwMBu"
      }
    },
    {
      "cell_type": "code",
>>>>>>> a264ad26aee8d9b92d02639ba7fc56399599ffa1
      "source": [
        "from sympy import symbols, diff, simplify\n",
        "I, R = symbols(\"I R\", positive=True)\n",
        "ROI_expr = (R - I) / I\n",
        "dROI_dI = diff(ROI_expr, I)\n",
        "print(\"ROI Expression:\", simplify(ROI_expr))\n",
        "print(\"Derivative wrt I:\", simplify(dROI_dI))"
<<<<<<< HEAD
=======
      ],
      "metadata": {
        "colab": {
          "base_uri": "https://localhost:8080/"
        },
        "id": "inidjs-bwTnQ",
        "outputId": "95605842-6f4d-4395-f164-b029b369af03"
      },
      "execution_count": null,
      "outputs": [
        {
          "output_type": "stream",
          "name": "stdout",
          "text": [
            "ROI Expression: (-I + R)/I\n",
            "Derivative wrt I: -R/I**2\n"
          ]
        }
>>>>>>> a264ad26aee8d9b92d02639ba7fc56399599ffa1
      ]
    },
    {
      "cell_type": "markdown",
<<<<<<< HEAD
      "metadata": {
        "id": "fDNQwbgbwpIt"
      },
      "source": [
        "**Part 6: Feature Engineering**"
      ]
    },
    {
      "cell_type": "code",
      "execution_count": 9,
=======
      "source": [
        "**Part 6: Feature Engineering**"
      ],
      "metadata": {
        "id": "fDNQwbgbwpIt"
      }
    },
    {
      "cell_type": "code",
      "source": [
        "df[\"High_Performance\"] = (df[\"ROI\"]>50).astype(int)\n",
        "df[\"Revenue_Per_Thousand_Invested\"] = df[\"Salary\"]/(df[\"Investment\"]/1000)\n",
        "df[\"ROI_Quartile\"] = pd.qcut(df[\"ROI\"],4,labels=[\"Q1\",\"Q2\",\"Q3\",\"Q4\"])\n",
        "print(df.head())"
      ],
>>>>>>> a264ad26aee8d9b92d02639ba7fc56399599ffa1
      "metadata": {
        "colab": {
          "base_uri": "https://localhost:8080/"
        },
        "id": "OTweTSvWwmSH",
        "outputId": "0dfa9930-6079-40c3-f879-36107454d567"
      },
<<<<<<< HEAD
      "outputs": [
        {
          "name": "stdout",
          "output_type": "stream",
=======
      "execution_count": null,
      "outputs": [
        {
          "output_type": "stream",
          "name": "stdout",
>>>>>>> a264ad26aee8d9b92d02639ba7fc56399599ffa1
          "text": [
            "   ID  Experience_Years  Age  Gender  Salary  Investment         ROI  \\\n",
            "0   1                 5   28  Female  250000       50000  400.000000   \n",
            "1   2                 1   21    Male   50000       10000  400.000000   \n",
            "2   3                 3   23  Female  170000       30000  466.666667   \n",
            "3   4                 2   22    Male   25000       20000   25.000000   \n",
            "4   5                 1   17    Male   10000       10000    0.000000   \n",
            "\n",
            "   High_Performance  Revenue_Per_Thousand_Invested ROI_Quartile  \n",
            "0                 1                    5000.000000           Q3  \n",
            "1                 1                    5000.000000           Q3  \n",
            "2                 1                    5666.666667           Q3  \n",
            "3                 0                    1250.000000           Q2  \n",
            "4                 0                    1000.000000           Q2  \n"
          ]
        }
<<<<<<< HEAD
      ],
      "source": [
        "df[\"High_Performance\"] = (df[\"ROI\"]>50).astype(int)\n",
        "df[\"Revenue_Per_Thousand_Invested\"] = df[\"Salary\"]/(df[\"Investment\"]/1000)\n",
        "df[\"ROI_Quartile\"] = pd.qcut(df[\"ROI\"],4,labels=[\"Q1\",\"Q2\",\"Q3\",\"Q4\"])\n",
        "print(df.head())"
=======
>>>>>>> a264ad26aee8d9b92d02639ba7fc56399599ffa1
      ]
    },
    {
      "cell_type": "markdown",
<<<<<<< HEAD
      "metadata": {
        "id": "F3qfqGRKwxry"
      },
      "source": [
        "**Part 7: SQL Simulation**"
      ]
    },
    {
      "cell_type": "code",
      "execution_count": 10,
=======
      "source": [
        "**Part 7: SQL Simulation**"
      ],
      "metadata": {
        "id": "F3qfqGRKwxry"
      }
    },
    {
      "cell_type": "code",
      "source": [
        "top25 = df[df[\"ROI\"]>=df[\"ROI\"].quantile(0.75)]\n",
        "print(\"Top 25% by ROI:\\n\", top25.sort_values(by=[\"ROI\",\"ID\"],ascending=[False,False]))"
      ],
>>>>>>> a264ad26aee8d9b92d02639ba7fc56399599ffa1
      "metadata": {
        "colab": {
          "base_uri": "https://localhost:8080/"
        },
        "id": "yKyv5ziqw2R5",
        "outputId": "d5764a1a-b7cc-4639-ded6-390780f3c54c"
      },
<<<<<<< HEAD
      "outputs": [
        {
          "name": "stdout",
          "output_type": "stream",
=======
      "execution_count": null,
      "outputs": [
        {
          "output_type": "stream",
          "name": "stdout",
>>>>>>> a264ad26aee8d9b92d02639ba7fc56399599ffa1
          "text": [
            "Top 25% by ROI:\n",
            "     ID  Experience_Years  Age  Gender    Salary  Investment           ROI  \\\n",
            "22  23                 5   29    Male   6845000       50000  13590.000000   \n",
            "17  18                15   54  Female   7900000      150000   5166.666667   \n",
            "33  34                19   53  Female   9300000      190000   4794.736842   \n",
            "34  35                16   49    Male   7600000      160000   4650.000000   \n",
            "20  21                15   54    Male   6570000      150000   4280.000000   \n",
            "12  13                14   39    Male   6000050      140000   4185.750000   \n",
            "27  28                27   62  Female  10000000      270000   3603.703704   \n",
            "28  29                19   54  Female   5000000      190000   2531.578947   \n",
            "11  12                 6   29    Male   1400000       60000   2233.333333   \n",
            "\n",
            "    High_Performance  Revenue_Per_Thousand_Invested ROI_Quartile  \n",
            "22                 1                  136900.000000           Q4  \n",
            "17                 1                   52666.666667           Q4  \n",
            "33                 1                   48947.368421           Q4  \n",
            "34                 1                   47500.000000           Q4  \n",
            "20                 1                   43800.000000           Q4  \n",
            "12                 1                   42857.500000           Q4  \n",
            "27                 1                   37037.037037           Q4  \n",
            "28                 1                   26315.789474           Q4  \n",
            "11                 1                   23333.333333           Q4  \n"
          ]
        }
<<<<<<< HEAD
      ],
      "source": [
        "top25 = df[df[\"ROI\"]>=df[\"ROI\"].quantile(0.75)]\n",
        "print(\"Top 25% by ROI:\\n\", top25.sort_values(by=[\"ROI\",\"ID\"],ascending=[False,False]))"
=======
>>>>>>> a264ad26aee8d9b92d02639ba7fc56399599ffa1
      ]
    },
    {
      "cell_type": "markdown",
<<<<<<< HEAD
      "metadata": {
        "id": "DkQhtXLNw8VO"
      },
      "source": [
        "**Part-8: Insights**"
      ]
    },
    {
      "cell_type": "code",
      "execution_count": 13,
      "metadata": {
        "colab": {
          "base_uri": "https://localhost:8080/"
        },
        "id": "3Gt9usrixB3I",
        "outputId": "80ca71ca-bfbd-4ada-8d33-c799f8341e44"
      },
      "outputs": [
        {
          "name": "stdout",
          "output_type": "stream",
          "text": [
            "Average ROI: 1466.4494200146833\n",
            "Prob(ROI>50%) = 0.6285714285714286\n"
          ]
        }
      ],
=======
      "source": [
        "**Part-8: Insights**"
      ],
      "metadata": {
        "id": "DkQhtXLNw8VO"
      }
    },
    {
      "cell_type": "code",
>>>>>>> a264ad26aee8d9b92d02639ba7fc56399599ffa1
      "source": [
        "import pandas as pd\n",
        "import numpy as np\n",
        "import matplotlib.pyplot as plt\n",
        "import seaborn as sns\n",
        "from sympy import symbols, diff, simplify\n",
        "\n",
<<<<<<< HEAD
        "df=pd.read_csv('C:/Users/vinot/Downloads/Employee_Salary_Dataset.csv')\n",
=======
        "df=pd.read_csv('/content/Employee_Salary_Dataset.csv')\n",
>>>>>>> a264ad26aee8d9b92d02639ba7fc56399599ffa1
        "\n",
        "# Calculate ROI\n",
        "df[\"Investment\"] = df[\"Experience_Years\"]*10000\n",
        "df[\"ROI\"] = (df[\"Salary\"] - df[\"Investment\"]) / df[\"Investment\"] * 100\n",
        "\n",
        "# Display insights\n",
        "print(\"Average ROI:\", df[\"ROI\"].mean())\n",
        "print(\"Prob(ROI>50%) =\", (df[\"ROI\"]>50).mean())"
<<<<<<< HEAD
      ]
    },
    {
      "cell_type": "markdown",
      "metadata": {
        "id": "Pkd9s6iZMRD4"
      },
      "source": [
        "**Part 9:Data Cleaning (Pandas/NumPy)**\n",
        "\n"
      ]
    },
    {
      "cell_type": "code",
      "execution_count": 15,
=======
      ],
>>>>>>> a264ad26aee8d9b92d02639ba7fc56399599ffa1
      "metadata": {
        "colab": {
          "base_uri": "https://localhost:8080/"
        },
<<<<<<< HEAD
        "id": "Dzwgt1YfMs1p",
        "outputId": "bbb233b8-9bcf-477a-a960-409ffbcbb8aa"
      },
      "outputs": [
        {
          "name": "stdout",
          "output_type": "stream",
          "text": [
            "Cleaned dataset ready!\n"
          ]
        }
      ],
=======
        "id": "3Gt9usrixB3I",
        "outputId": "80ca71ca-bfbd-4ada-8d33-c799f8341e44"
      },
      "execution_count": null,
      "outputs": [
        {
          "output_type": "stream",
          "name": "stdout",
          "text": [
            "Average ROI: 1466.4494200146833\n",
            "Prob(ROI>50%) = 0.6285714285714286\n"
          ]
        }
      ]
    },
    {
      "cell_type": "markdown",
      "source": [
        "**Part 9:Data Cleaning (Pandas/NumPy)**\n",
        "\n"
      ],
      "metadata": {
        "id": "Pkd9s6iZMRD4"
      }
    },
    {
      "cell_type": "code",
>>>>>>> a264ad26aee8d9b92d02639ba7fc56399599ffa1
      "source": [
        "import pandas as pd\n",
        "import numpy as np\n",
        "import matplotlib.pyplot as plt\n",
        "import seaborn as sns\n",
        "from sympy import symbols, diff, simplify\n",
        "\n",
<<<<<<< HEAD
        "df=pd.read_csv('C:/Users/vinot/Downloads/Employee_Salary_Dataset.csv')\n",
=======
        "df=pd.read_csv('/content/Employee_Salary_Dataset.csv')\n",
>>>>>>> a264ad26aee8d9b92d02639ba7fc56399599ffa1
        "df = df.drop_duplicates().fillna(0)\n",
        "if \"full_name\" in df.columns:\n",
        "    df[\"first_name\"] = df[\"full_name\"].str.split().str[0]\n",
        "if \"city\" in df.columns:\n",
        "    df[\"city\"] = df[\"city\"].str.upper()\n",
        "print(\"Cleaned dataset ready!\")"
<<<<<<< HEAD
      ]
    }
  ],
  "metadata": {
    "colab": {
      "provenance": []
    },
    "kernelspec": {
      "display_name": "Python 3",
      "name": "python3"
    },
    "language_info": {
      "codemirror_mode": {
        "name": "ipython",
        "version": 3
      },
      "file_extension": ".py",
      "mimetype": "text/x-python",
      "name": "python",
      "nbconvert_exporter": "python",
      "pygments_lexer": "ipython3",
      "version": "3.10.18"
    }
  },
  "nbformat": 4,
  "nbformat_minor": 0
}
=======
      ],
      "metadata": {
        "colab": {
          "base_uri": "https://localhost:8080/"
        },
        "id": "Dzwgt1YfMs1p",
        "outputId": "bbb233b8-9bcf-477a-a960-409ffbcbb8aa"
      },
      "execution_count": null,
      "outputs": [
        {
          "output_type": "stream",
          "name": "stdout",
          "text": [
            "Cleaned dataset ready!\n"
          ]
        }
      ]
    }
  ]
}
>>>>>>> a264ad26aee8d9b92d02639ba7fc56399599ffa1
