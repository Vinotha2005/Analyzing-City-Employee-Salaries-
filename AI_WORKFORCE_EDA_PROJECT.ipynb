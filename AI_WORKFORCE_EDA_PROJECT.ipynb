{
  "cells": [
    {
      "cell_type": "markdown",
      "metadata": {
        "id": "_VgFp9OZbvFd"
      },
      "source": [
        "**Part 1 – Basic Data Understanding (Pandas)**"
      ]
    },
    {
      "cell_type": "code",
      "execution_count": 3,
      "metadata": {
        "colab": {
          "base_uri": "https://localhost:8080/",
          "height": 206
        },
        "id": "b68ses09bopb",
        "outputId": "612b1ffa-3e45-432d-ebd7-45de59b9ac4e"
      },
      "outputs": [
        {
          "data": {
            "text/html": [
              "<div>\n",
              "<style scoped>\n",
              "    .dataframe tbody tr th:only-of-type {\n",
              "        vertical-align: middle;\n",
              "    }\n",
              "\n",
              "    .dataframe tbody tr th {\n",
              "        vertical-align: top;\n",
              "    }\n",
              "\n",
              "    .dataframe thead th {\n",
              "        text-align: right;\n",
              "    }\n",
              "</style>\n",
              "<table border=\"1\" class=\"dataframe\">\n",
              "  <thead>\n",
              "    <tr style=\"text-align: right;\">\n",
              "      <th></th>\n",
              "      <th>ID</th>\n",
              "      <th>Experience_Years</th>\n",
              "      <th>Age</th>\n",
              "      <th>Gender</th>\n",
              "      <th>Salary</th>\n",
              "    </tr>\n",
              "  </thead>\n",
              "  <tbody>\n",
              "    <tr>\n",
              "      <th>0</th>\n",
              "      <td>1</td>\n",
              "      <td>5</td>\n",
              "      <td>28</td>\n",
              "      <td>Female</td>\n",
              "      <td>250000</td>\n",
              "    </tr>\n",
              "    <tr>\n",
              "      <th>1</th>\n",
              "      <td>2</td>\n",
              "      <td>1</td>\n",
              "      <td>21</td>\n",
              "      <td>Male</td>\n",
              "      <td>50000</td>\n",
              "    </tr>\n",
              "    <tr>\n",
              "      <th>2</th>\n",
              "      <td>3</td>\n",
              "      <td>3</td>\n",
              "      <td>23</td>\n",
              "      <td>Female</td>\n",
              "      <td>170000</td>\n",
              "    </tr>\n",
              "    <tr>\n",
              "      <th>3</th>\n",
              "      <td>4</td>\n",
              "      <td>2</td>\n",
              "      <td>22</td>\n",
              "      <td>Male</td>\n",
              "      <td>25000</td>\n",
              "    </tr>\n",
              "    <tr>\n",
              "      <th>4</th>\n",
              "      <td>5</td>\n",
              "      <td>1</td>\n",
              "      <td>17</td>\n",
              "      <td>Male</td>\n",
              "      <td>10000</td>\n",
              "    </tr>\n",
              "  </tbody>\n",
              "</table>\n",
              "</div>"
            ],
            "text/plain": [
              "   ID  Experience_Years  Age  Gender  Salary\n",
              "0   1                 5   28  Female  250000\n",
              "1   2                 1   21    Male   50000\n",
              "2   3                 3   23  Female  170000\n",
              "3   4                 2   22    Male   25000\n",
              "4   5                 1   17    Male   10000"
            ]
          },
          "execution_count": 3,
          "metadata": {},
          "output_type": "execute_result"
        }
      ],
      "source": [
        "import pandas as pd\n",
        "import numpy as np\n",
        "import matplotlib.pyplot as plt\n",
        "import seaborn as sns\n",
        "from sympy import symbols, diff, simplify\n",
        "\n",
        "df=pd.read_csv('C:/Users/vinot/Downloads/Employee_Salary_Dataset.csv')\n",
        "\n",
        "df.head()\n",
        "\n"
      ]
    },
    {
      "cell_type": "code",
      "execution_count": 4,
      "metadata": {
        "colab": {
          "base_uri": "https://localhost:8080/"
        },
        "id": "SHG1KOH2sn7W",
        "outputId": "66a679f7-54e5-41d4-9b11-d1883b0c40b2"
      },
      "outputs": [
        {
          "name": "stdout",
          "output_type": "stream",
          "text": [
            "(35, 5)\n",
            "ID                   int64\n",
            "Experience_Years     int64\n",
            "Age                  int64\n",
            "Gender              object\n",
            "Salary               int64\n",
            "dtype: object\n",
            "ID                  0\n",
            "Experience_Years    0\n",
            "Age                 0\n",
            "Gender              0\n",
            "Salary              0\n",
            "dtype: int64\n",
            "               ID  Experience_Years        Age  Gender        Salary\n",
            "count   35.000000          35.00000  35.000000      35  3.500000e+01\n",
            "unique        NaN               NaN        NaN       2           NaN\n",
            "top           NaN               NaN        NaN  Female           NaN\n",
            "freq          NaN               NaN        NaN      18           NaN\n",
            "mean    18.000000           9.20000  35.485714     NaN  2.059147e+06\n",
            "std     10.246951           7.55295  14.643552     NaN  3.170124e+06\n",
            "min      1.000000           1.00000  17.000000     NaN  3.000000e+03\n",
            "25%      9.500000           2.50000  22.500000     NaN  2.250000e+04\n",
            "50%     18.000000           6.00000  29.000000     NaN  2.500000e+05\n",
            "75%     26.500000          15.00000  53.500000     NaN  3.270000e+06\n",
            "max     35.000000          27.00000  62.000000     NaN  1.000000e+07\n",
            "0\n"
          ]
        }
      ],
      "source": [
        "\n",
        "print(df.shape)\n",
        "\n",
        "print(df.dtypes)\n",
        "\n",
        "print(df.isnull().sum())\n",
        "\n",
        "print(df.describe(include=\"all\"))\n",
        "\n",
        "print(df.duplicated().sum())"
      ]
    },
    {
      "cell_type": "markdown",
      "metadata": {
        "id": "XkgUUWWIeqdO"
      },
      "source": [
        "**Part 2 – EDA (Exploratory Data Analysis)**"
      ]
    },
    {
      "cell_type": "code",
      "execution_count": 5,
      "metadata": {
        "colab": {
          "base_uri": "https://localhost:8080/",
          "height": 1000
        },
        "id": "M6KLYtMCt2Go",
        "outputId": "6b9b6141-2331-4cca-9c4f-6236c358e488"
      },
      "outputs": [
        {
          "data": {
            "image/png": "[encoded data removed]",
            "text/plain": [
              "<Figure size 640x480 with 1 Axes>"
            ]
          },
          "metadata": {},
          "output_type": "display_data"
        },
        {
          "data": {
            "image/png": "[encoded data removed]",
            "text/plain": [
              "<Figure size 640x480 with 1 Axes>"
            ]
          },
          "metadata": {},
          "output_type": "display_data"
        },
        {
          "data": {
            "image/png": "[encoded data removed]",
            "text/plain": [
              "<Figure size 640x480 with 1 Axes>"
            ]
          },
          "metadata": {},
          "output_type": "display_data"
        },
        {
          "name": "stdout",
          "output_type": "stream",
          "text": [
            "Top 5 by Salary:\n",
            "     ID  Experience_Years  Age  Gender    Salary\n",
            "27  28                27   62  Female  10000000\n",
            "33  34                19   53  Female   9300000\n",
            "17  18                15   54  Female   7900000\n",
            "34  35                16   49    Male   7600000\n",
            "22  23                 5   29    Male   6845000\n",
            "Bottom 5 by Experience:\n",
            "     ID  Experience_Years  Age  Gender  Salary\n",
            "1    2                 1   21    Male   50000\n",
            "4    5                 1   17    Male   10000\n",
            "23  24                 1   21  Female    6000\n",
            "26  27                 1   18    Male    3000\n",
            "3    4                 2   22    Male   25000\n"
          ]
        },
        {
          "data": {
            "image/png": "[encoded data removed]",
            "text/plain": [
              "<Figure size 640x480 with 1 Axes>"
            ]
          },
          "metadata": {},
          "output_type": "display_data"
        }
      ],
      "source": [
        "df[\"Experience_Years\"].hist(bins=20); plt.title(\"Experience Distribution\"); plt.show()\n",
        "df[\"Salary\"].hist(bins=20); plt.title(\"Salary Distribution\"); plt.show()\n",
        "\n",
        "plt.scatter(df[\"Experience_Years\"], df[\"Salary\"])\n",
        "plt.xlabel(\"Experience\"); plt.ylabel(\"Salary\"); plt.title(\"Experience vs Salary\"); plt.show()\n",
        "\n",
        "print(\"Top 5 by Salary:\\n\", df.nlargest(5,\"Salary\"))\n",
        "print(\"Bottom 5 by Experience:\\n\", df.nsmallest(5,\"Experience_Years\"))\n",
        "\n",
        "df.boxplot(column=\"Salary\"); plt.title(\"Salary Outliers\"); plt.show()\n"
      ]
    },
    {
      "cell_type": "markdown",
      "metadata": {
        "id": "umrGjW44vfhE"
      },
      "source": [
        "**Part 3: Statistics**"
      ]
    },
    {
      "cell_type": "code",
      "execution_count": 6,
      "metadata": {
        "colab": {
          "base_uri": "https://localhost:8080/"
        },
        "id": "bidu0ypKvo2I",
        "outputId": "d30ad72f-87f3-4e69-d13c-17a5d815bf47"
      },
      "outputs": [
        {
          "name": "stdout",
          "output_type": "stream",
          "text": [
            "Mean Salary: 2059147.142857143\n",
            "Median Salary: 250000.0\n",
            "Mode Salary: 25000\n",
            "Variance: 10049683866903.361\n",
            "Std Dev: 3170123.635901818\n",
            "Correlation (Experience vs Salary): 0.6855999775494617\n",
            "Probaility(ROI>50%) = 0.6285714285714286\n"
          ]
        }
      ],
      "source": [
        "print(\"Mean Salary:\", df[\"Salary\"].mean())\n",
        "print(\"Median Salary:\", df[\"Salary\"].median())\n",
        "print(\"Mode Salary:\", df[\"Salary\"].mode()[0])\n",
        "print(\"Variance:\", df[\"Salary\"].var())\n",
        "print(\"Std Dev:\", df[\"Salary\"].std())\n",
        "print(\"Correlation (Experience vs Salary):\", df[\"Experience_Years\"].corr(df[\"Salary\"]))\n",
        "\n",
        "df[\"Investment\"] = df[\"Experience_Years\"]*10000\n",
        "df[\"ROI\"] = (df[\"Salary\"] - df[\"Investment\"]) / df[\"Investment\"] * 100\n",
        "print(\"Probaility(ROI>50%) =\", (df[\"ROI\"]>50).mean())"
      ]
    },
    {
      "cell_type": "markdown",
      "metadata": {
        "id": "zfcDuK9cv3y6"
      },
      "source": [
        "**Part 4: Linear Algebra**\n",
        "\n"
      ]
    },
    {
      "cell_type": "code",
      "execution_count": 7,
      "metadata": {
        "colab": {
          "base_uri": "https://localhost:8080/"
        },
        "id": "gHh7PCehv9Gs",
        "outputId": "12ae9759-0e59-4fa9-a37a-cd27ed67bb7f"
      },
      "outputs": [
        {
          "name": "stdout",
          "output_type": "stream",
          "text": [
            "Dot Product: 12211846000000\n",
            "Matrix Mult (first 5): [150000.  30000. 100000.  22500.  10000.]\n"
          ]
        }
      ],
      "source": [
        "invest = df[\"Investment\"].values\n",
        "rev = df[\"Salary\"].values\n",
        "print(\"Dot Product:\", np.dot(invest, rev))\n",
        "features = np.vstack([invest,rev]).T\n",
        "weights = np.array([0.5,0.5])\n",
        "print(\"Matrix Mult (first 5):\", (features @ weights)[:5])"
      ]
    },
    {
      "cell_type": "markdown",
      "metadata": {
        "id": "M1FBwwxwwMBu"
      },
      "source": [
        "**Part 5: Calculus**"
      ]
    },
    {
      "cell_type": "code",
      "execution_count": 8,
      "metadata": {
        "colab": {
          "base_uri": "https://localhost:8080/"
        },
        "id": "inidjs-bwTnQ",
        "outputId": "95605842-6f4d-4395-f164-b029b369af03"
      },
      "outputs": [
        {
          "name": "stdout",
          "output_type": "stream",
          "text": [
            "ROI Expression: (-I + R)/I\n",
            "Derivative wrt I: -R/I**2\n"
          ]
        }
      ],
      "source": [
        "from sympy import symbols, diff, simplify\n",
        "I, R = symbols(\"I R\", positive=True)\n",
        "ROI_expr = (R - I) / I\n",
        "dROI_dI = diff(ROI_expr, I)\n",
        "print(\"ROI Expression:\", simplify(ROI_expr))\n",
        "print(\"Derivative wrt I:\", simplify(dROI_dI))"
      ]
    },
    {
      "cell_type": "markdown",
      "metadata": {
        "id": "fDNQwbgbwpIt"
      },
      "source": [
        "**Part 6: Feature Engineering**"
      ]
    },
    {
      "cell_type": "code",
      "execution_count": 9,
      "metadata": {
        "colab": {
          "base_uri": "https://localhost:8080/"
        },
        "id": "OTweTSvWwmSH",
        "outputId": "0dfa9930-6079-40c3-f879-36107454d567"
      },
      "outputs": [
        {
          "name": "stdout",
          "output_type": "stream",
          "text": [
            "   ID  Experience_Years  Age  Gender  Salary  Investment         ROI  \\\n",
            "0   1                 5   28  Female  250000       50000  400.000000   \n",
            "1   2                 1   21    Male   50000       10000  400.000000   \n",
            "2   3                 3   23  Female  170000       30000  466.666667   \n",
            "3   4                 2   22    Male   25000       20000   25.000000   \n",
            "4   5                 1   17    Male   10000       10000    0.000000   \n",
            "\n",
            "   High_Performance  Revenue_Per_Thousand_Invested ROI_Quartile  \n",
            "0                 1                    5000.000000           Q3  \n",
            "1                 1                    5000.000000           Q3  \n",
            "2                 1                    5666.666667           Q3  \n",
            "3                 0                    1250.000000           Q2  \n",
            "4                 0                    1000.000000           Q2  \n"
          ]
        }
      ],
      "source": [
        "df[\"High_Performance\"] = (df[\"ROI\"]>50).astype(int)\n",
        "df[\"Revenue_Per_Thousand_Invested\"] = df[\"Salary\"]/(df[\"Investment\"]/1000)\n",
        "df[\"ROI_Quartile\"] = pd.qcut(df[\"ROI\"],4,labels=[\"Q1\",\"Q2\",\"Q3\",\"Q4\"])\n",
        "print(df.head())"
      ]
    },
    {
      "cell_type": "markdown",
      "metadata": {
        "id": "F3qfqGRKwxry"
      },
      "source": [
        "**Part 7: SQL Simulation**"
      ]
    },
    {
      "cell_type": "code",
      "execution_count": 10,
      "metadata": {
        "colab": {
          "base_uri": "https://localhost:8080/"
        },
        "id": "yKyv5ziqw2R5",
        "outputId": "d5764a1a-b7cc-4639-ded6-390780f3c54c"
      },
      "outputs": [
        {
          "name": "stdout",
          "output_type": "stream",
          "text": [
            "Top 25% by ROI:\n",
            "     ID  Experience_Years  Age  Gender    Salary  Investment           ROI  \\\n",
            "22  23                 5   29    Male   6845000       50000  13590.000000   \n",
            "17  18                15   54  Female   7900000      150000   5166.666667   \n",
            "33  34                19   53  Female   9300000      190000   4794.736842   \n",
            "34  35                16   49    Male   7600000      160000   4650.000000   \n",
            "20  21                15   54    Male   6570000      150000   4280.000000   \n",
            "12  13                14   39    Male   6000050      140000   4185.750000   \n",
            "27  28                27   62  Female  10000000      270000   3603.703704   \n",
            "28  29                19   54  Female   5000000      190000   2531.578947   \n",
            "11  12                 6   29    Male   1400000       60000   2233.333333   \n",
            "\n",
            "    High_Performance  Revenue_Per_Thousand_Invested ROI_Quartile  \n",
            "22                 1                  136900.000000           Q4  \n",
            "17                 1                   52666.666667           Q4  \n",
            "33                 1                   48947.368421           Q4  \n",
            "34                 1                   47500.000000           Q4  \n",
            "20                 1                   43800.000000           Q4  \n",
            "12                 1                   42857.500000           Q4  \n",
            "27                 1                   37037.037037           Q4  \n",
            "28                 1                   26315.789474           Q4  \n",
            "11                 1                   23333.333333           Q4  \n"
          ]
        }
      ],
      "source": [
        "top25 = df[df[\"ROI\"]>=df[\"ROI\"].quantile(0.75)]\n",
        "print(\"Top 25% by ROI:\\n\", top25.sort_values(by=[\"ROI\",\"ID\"],ascending=[False,False]))"
      ]
    },
    {
      "cell_type": "markdown",
      "metadata": {
        "id": "DkQhtXLNw8VO"
      },
      "source": [
        "**Part-8: Insights**"
      ]
    },
    {
      "cell_type": "code",
      "execution_count": 13,
      "metadata": {
        "colab": {
          "base_uri": "https://localhost:8080/"
        },
        "id": "3Gt9usrixB3I",
        "outputId": "80ca71ca-bfbd-4ada-8d33-c799f8341e44"
      },
      "outputs": [
        {
          "name": "stdout",
          "output_type": "stream",
          "text": [
            "Average ROI: 1466.4494200146833\n",
            "Prob(ROI>50%) = 0.6285714285714286\n"
          ]
        }
      ],
      "source": [
        "import pandas as pd\n",
        "import numpy as np\n",
        "import matplotlib.pyplot as plt\n",
        "import seaborn as sns\n",
        "from sympy import symbols, diff, simplify\n",
        "\n",
        "df=pd.read_csv('C:/Users/vinot/Downloads/Employee_Salary_Dataset.csv')\n",
        "\n",
        "# Calculate ROI\n",
        "df[\"Investment\"] = df[\"Experience_Years\"]*10000\n",
        "df[\"ROI\"] = (df[\"Salary\"] - df[\"Investment\"]) / df[\"Investment\"] * 100\n",
        "\n",
        "# Display insights\n",
        "print(\"Average ROI:\", df[\"ROI\"].mean())\n",
        "print(\"Prob(ROI>50%) =\", (df[\"ROI\"]>50).mean())"
      ]
    },
    {
      "cell_type": "markdown",
      "metadata": {
        "id": "Pkd9s6iZMRD4"
      },
      "source": [
        "**Part 9:Data Cleaning (Pandas/NumPy)**\n",
        "\n"
      ]
    },
    {
      "cell_type": "code",
      "execution_count": 15,
      "metadata": {
        "colab": {
          "base_uri": "https://localhost:8080/"
        },
        "id": "Dzwgt1YfMs1p",
        "outputId": "bbb233b8-9bcf-477a-a960-409ffbcbb8aa"
      },
      "outputs": [
        {
          "name": "stdout",
          "output_type": "stream",
          "text": [
            "Cleaned dataset ready!\n"
          ]
        }
      ],
      "source": [
        "import pandas as pd\n",
        "import numpy as np\n",
        "import matplotlib.pyplot as plt\n",
        "import seaborn as sns\n",
        "from sympy import symbols, diff, simplify\n",
        "\n",
        "df=pd.read_csv('C:/Users/vinot/Downloads/Employee_Salary_Dataset.csv')\n",
        "df = df.drop_duplicates().fillna(0)\n",
        "if \"full_name\" in df.columns:\n",
        "    df[\"first_name\"] = df[\"full_name\"].str.split().str[0]\n",
        "if \"city\" in df.columns:\n",
        "    df[\"city\"] = df[\"city\"].str.upper()\n",
        "print(\"Cleaned dataset ready!\")"
      ]
    }
  ],
  "metadata": {
    "colab": {
      "provenance": []
    },
    "kernelspec": {
      "display_name": "Python 3",
      "name": "python3"
    },
    "language_info": {
      "codemirror_mode": {
        "name": "ipython",
        "version": 3
      },
      "file_extension": ".py",
      "mimetype": "text/x-python",
      "name": "python",
      "nbconvert_exporter": "python",
      "pygments_lexer": "ipython3",
      "version": "3.10.18"
    }
  },
  "nbformat": 4,
  "nbformat_minor": 0
}
