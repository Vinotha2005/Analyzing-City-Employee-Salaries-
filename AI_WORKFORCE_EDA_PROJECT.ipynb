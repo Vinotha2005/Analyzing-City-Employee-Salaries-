{
  "nbformat": 4,
  "nbformat_minor": 0,
  "metadata": {
    "colab": {
      "provenance": []
    },
    "kernelspec": {
      "name": "python3",
      "display_name": "Python 3"
    },
    "language_info": {
      "name": "python"
    }
  },
  "cells": [
    {
      "cell_type": "markdown",
      "source": [
        "**Part 1 – Basic Data Understanding (Pandas)**"
      ],
      "metadata": {
        "id": "_VgFp9OZbvFd"
      }
    },
    {
      "cell_type": "code",
      "execution_count": null,
      "metadata": {
        "colab": {
          "base_uri": "https://localhost:8080/",
          "height": 206
        },
        "id": "b68ses09bopb",
        "outputId": "612b1ffa-3e45-432d-ebd7-45de59b9ac4e"
      },
      "outputs": [
        {
          "output_type": "execute_result",
          "data": {
            "text/plain": [
              "   ID  Experience_Years  Age  Gender  Salary\n",
              "0   1                 5   28  Female  250000\n",
              "1   2                 1   21    Male   50000\n",
              "2   3                 3   23  Female  170000\n",
              "3   4                 2   22    Male   25000\n",
              "4   5                 1   17    Male   10000"
            ],
            "text/html": [
              "\n",
              "  <div id=\"df-f8f19e8d-6244-4794-9d61-9a99dfe6b8eb\" class=\"colab-df-container\">\n",
              "    <div>\n",
              "<style scoped>\n",
              "    .dataframe tbody tr th:only-of-type {\n",
              "        vertical-align: middle;\n",
              "    }\n",
              "\n",
              "    .dataframe tbody tr th {\n",
              "        vertical-align: top;\n",
              "    }\n",
              "\n",
              "    .dataframe thead th {\n",
              "        text-align: right;\n",
              "    }\n",
              "</style>\n",
              "<table border=\"1\" class=\"dataframe\">\n",
              "  <thead>\n",
              "    <tr style=\"text-align: right;\">\n",
              "      <th></th>\n",
              "      <th>ID</th>\n",
              "      <th>Experience_Years</th>\n",
              "      <th>Age</th>\n",
              "      <th>Gender</th>\n",
              "      <th>Salary</th>\n",
              "    </tr>\n",
              "  </thead>\n",
              "  <tbody>\n",
              "    <tr>\n",
              "      <th>0</th>\n",
              "      <td>1</td>\n",
              "      <td>5</td>\n",
              "      <td>28</td>\n",
              "      <td>Female</td>\n",
              "      <td>250000</td>\n",
              "    </tr>\n",
              "    <tr>\n",
              "      <th>1</th>\n",
              "      <td>2</td>\n",
              "      <td>1</td>\n",
              "      <td>21</td>\n",
              "      <td>Male</td>\n",
              "      <td>50000</td>\n",
              "    </tr>\n",
              "    <tr>\n",
              "      <th>2</th>\n",
              "      <td>3</td>\n",
              "      <td>3</td>\n",
              "      <td>23</td>\n",
              "      <td>Female</td>\n",
              "      <td>170000</td>\n",
              "    </tr>\n",
              "    <tr>\n",
              "      <th>3</th>\n",
              "      <td>4</td>\n",
              "      <td>2</td>\n",
              "      <td>22</td>\n",
              "      <td>Male</td>\n",
              "      <td>25000</td>\n",
              "    </tr>\n",
              "    <tr>\n",
              "      <th>4</th>\n",
              "      <td>5</td>\n",
              "      <td>1</td>\n",
              "      <td>17</td>\n",
              "      <td>Male</td>\n",
              "      <td>10000</td>\n",
              "    </tr>\n",
              "  </tbody>\n",
              "</table>\n",
              "</div>\n",
              "    <div class=\"colab-df-buttons\">\n",
              "\n",
              "  <div class=\"colab-df-container\">\n",
              "    <button class=\"colab-df-convert\" onclick=\"convertToInteractive('df-f8f19e8d-6244-4794-9d61-9a99dfe6b8eb')\"\n",
              "            title=\"Convert this dataframe to an interactive table.\"\n",
              "            style=\"display:none;\">\n",
              "\n",
              "  <svg xmlns=\"http://www.w3.org/2000/svg\" height=\"24px\" viewBox=\"0 -960 960 960\">\n",
              "    <path d=\"M120-120v-720h720v720H120Zm60-500h600v-160H180v160Zm220 220h160v-160H400v160Zm0 220h160v-160H400v160ZM180-400h160v-160H180v160Zm440 0h160v-160H620v160ZM180-180h160v-160H180v160Zm440 0h160v-160H620v160Z\"/>\n",
              "  </svg>\n",
              "    </button>\n",
              "\n",
              "  <style>\n",
              "    .colab-df-container {\n",
              "      display:flex;\n",
              "      gap: 12px;\n",
              "    }\n",
              "\n",
              "    .colab-df-convert {\n",
              "      background-color: #E8F0FE;\n",
              "      border: none;\n",
              "      border-radius: 50%;\n",
              "      cursor: pointer;\n",
              "      display: none;\n",
              "      fill: #1967D2;\n",
              "      height: 32px;\n",
              "      padding: 0 0 0 0;\n",
              "      width: 32px;\n",
              "    }\n",
              "\n",
              "    .colab-df-convert:hover {\n",
              "      background-color: #E2EBFA;\n",
              "      box-shadow: 0px 1px 2px rgba(60, 64, 67, 0.3), 0px 1px 3px 1px rgba(60, 64, 67, 0.15);\n",
              "      fill: #174EA6;\n",
              "    }\n",
              "\n",
              "    .colab-df-buttons div {\n",
              "      margin-bottom: 4px;\n",
              "    }\n",
              "\n",
              "    [theme=dark] .colab-df-convert {\n",
              "      background-color: #3B4455;\n",
              "      fill: #D2E3FC;\n",
              "    }\n",
              "\n",
              "    [theme=dark] .colab-df-convert:hover {\n",
              "      background-color: #434B5C;\n",
              "      box-shadow: 0px 1px 3px 1px rgba(0, 0, 0, 0.15);\n",
              "      filter: drop-shadow(0px 1px 2px rgba(0, 0, 0, 0.3));\n",
              "      fill: #FFFFFF;\n",
              "    }\n",
              "  </style>\n",
              "\n",
              "    <script>\n",
              "      const buttonEl =\n",
              "        document.querySelector('#df-f8f19e8d-6244-4794-9d61-9a99dfe6b8eb button.colab-df-convert');\n",
              "      buttonEl.style.display =\n",
              "        google.colab.kernel.accessAllowed ? 'block' : 'none';\n",
              "\n",
              "      async function convertToInteractive(key) {\n",
              "        const element = document.querySelector('#df-f8f19e8d-6244-4794-9d61-9a99dfe6b8eb');\n",
              "        const dataTable =\n",
              "          await google.colab.kernel.invokeFunction('convertToInteractive',\n",
              "                                                    [key], {});\n",
              "        if (!dataTable) return;\n",
              "\n",
              "        const docLinkHtml = 'Like what you see? Visit the ' +\n",
              "          '<a target=\"_blank\" href=https://colab.research.google.com/notebooks/data_table.ipynb>data table notebook</a>'\n",
              "          + ' to learn more about interactive tables.';\n",
              "        element.innerHTML = '';\n",
              "        dataTable['output_type'] = 'display_data';\n",
              "        await google.colab.output.renderOutput(dataTable, element);\n",
              "        const docLink = document.createElement('div');\n",
              "        docLink.innerHTML = docLinkHtml;\n",
              "        element.appendChild(docLink);\n",
              "      }\n",
              "    </script>\n",
              "  </div>\n",
              "\n",
              "\n",
              "    <div id=\"df-843f8193-27b0-4392-beb7-2d40adaac9ae\">\n",
              "      <button class=\"colab-df-quickchart\" onclick=\"quickchart('df-843f8193-27b0-4392-beb7-2d40adaac9ae')\"\n",
              "                title=\"Suggest charts\"\n",
              "                style=\"display:none;\">\n",
              "\n",
              "<svg xmlns=\"http://www.w3.org/2000/svg\" height=\"24px\"viewBox=\"0 0 24 24\"\n",
              "     width=\"24px\">\n",
              "    <g>\n",
              "        <path d=\"M19 3H5c-1.1 0-2 .9-2 2v14c0 1.1.9 2 2 2h14c1.1 0 2-.9 2-2V5c0-1.1-.9-2-2-2zM9 17H7v-7h2v7zm4 0h-2V7h2v10zm4 0h-2v-4h2v4z\"/>\n",
              "    </g>\n",
              "</svg>\n",
              "      </button>\n",
              "\n",
              "<style>\n",
              "  .colab-df-quickchart {\n",
              "      --bg-color: #E8F0FE;\n",
              "      --fill-color: #1967D2;\n",
              "      --hover-bg-color: #E2EBFA;\n",
              "      --hover-fill-color: #174EA6;\n",
              "      --disabled-fill-color: #AAA;\n",
              "      --disabled-bg-color: #DDD;\n",
              "  }\n",
              "\n",
              "  [theme=dark] .colab-df-quickchart {\n",
              "      --bg-color: #3B4455;\n",
              "      --fill-color: #D2E3FC;\n",
              "      --hover-bg-color: #434B5C;\n",
              "      --hover-fill-color: #FFFFFF;\n",
              "      --disabled-bg-color: #3B4455;\n",
              "      --disabled-fill-color: #666;\n",
              "  }\n",
              "\n",
              "  .colab-df-quickchart {\n",
              "    background-color: var(--bg-color);\n",
              "    border: none;\n",
              "    border-radius: 50%;\n",
              "    cursor: pointer;\n",
              "    display: none;\n",
              "    fill: var(--fill-color);\n",
              "    height: 32px;\n",
              "    padding: 0;\n",
              "    width: 32px;\n",
              "  }\n",
              "\n",
              "  .colab-df-quickchart:hover {\n",
              "    background-color: var(--hover-bg-color);\n",
              "    box-shadow: 0 1px 2px rgba(60, 64, 67, 0.3), 0 1px 3px 1px rgba(60, 64, 67, 0.15);\n",
              "    fill: var(--button-hover-fill-color);\n",
              "  }\n",
              "\n",
              "  .colab-df-quickchart-complete:disabled,\n",
              "  .colab-df-quickchart-complete:disabled:hover {\n",
              "    background-color: var(--disabled-bg-color);\n",
              "    fill: var(--disabled-fill-color);\n",
              "    box-shadow: none;\n",
              "  }\n",
              "\n",
              "  .colab-df-spinner {\n",
              "    border: 2px solid var(--fill-color);\n",
              "    border-color: transparent;\n",
              "    border-bottom-color: var(--fill-color);\n",
              "    animation:\n",
              "      spin 1s steps(1) infinite;\n",
              "  }\n",
              "\n",
              "  @keyframes spin {\n",
              "    0% {\n",
              "      border-color: transparent;\n",
              "      border-bottom-color: var(--fill-color);\n",
              "      border-left-color: var(--fill-color);\n",
              "    }\n",
              "    20% {\n",
              "      border-color: transparent;\n",
              "      border-left-color: var(--fill-color);\n",
              "      border-top-color: var(--fill-color);\n",
              "    }\n",
              "    30% {\n",
              "      border-color: transparent;\n",
              "      border-left-color: var(--fill-color);\n",
              "      border-top-color: var(--fill-color);\n",
              "      border-right-color: var(--fill-color);\n",
              "    }\n",
              "    40% {\n",
              "      border-color: transparent;\n",
              "      border-right-color: var(--fill-color);\n",
              "      border-top-color: var(--fill-color);\n",
              "    }\n",
              "    60% {\n",
              "      border-color: transparent;\n",
              "      border-right-color: var(--fill-color);\n",
              "    }\n",
              "    80% {\n",
              "      border-color: transparent;\n",
              "      border-right-color: var(--fill-color);\n",
              "      border-bottom-color: var(--fill-color);\n",
              "    }\n",
              "    90% {\n",
              "      border-color: transparent;\n",
              "      border-bottom-color: var(--fill-color);\n",
              "    }\n",
              "  }\n",
              "</style>\n",
              "\n",
              "      <script>\n",
              "        async function quickchart(key) {\n",
              "          const quickchartButtonEl =\n",
              "            document.querySelector('#' + key + ' button');\n",
              "          quickchartButtonEl.disabled = true;  // To prevent multiple clicks.\n",
              "          quickchartButtonEl.classList.add('colab-df-spinner');\n",
              "          try {\n",
              "            const charts = await google.colab.kernel.invokeFunction(\n",
              "                'suggestCharts', [key], {});\n",
              "          } catch (error) {\n",
              "            console.error('Error during call to suggestCharts:', error);\n",
              "          }\n",
              "          quickchartButtonEl.classList.remove('colab-df-spinner');\n",
              "          quickchartButtonEl.classList.add('colab-df-quickchart-complete');\n",
              "        }\n",
              "        (() => {\n",
              "          let quickchartButtonEl =\n",
              "            document.querySelector('#df-843f8193-27b0-4392-beb7-2d40adaac9ae button');\n",
              "          quickchartButtonEl.style.display =\n",
              "            google.colab.kernel.accessAllowed ? 'block' : 'none';\n",
              "        })();\n",
              "      </script>\n",
              "    </div>\n",
              "\n",
              "    </div>\n",
              "  </div>\n"
            ],
            "application/vnd.google.colaboratory.intrinsic+json": {
              "type": "dataframe",
              "variable_name": "df",
              "summary": "{\n  \"name\": \"df\",\n  \"rows\": 35,\n  \"fields\": [\n    {\n      \"column\": \"ID\",\n      \"properties\": {\n        \"dtype\": \"number\",\n        \"std\": 10,\n        \"min\": 1,\n        \"max\": 35,\n        \"num_unique_values\": 35,\n        \"samples\": [\n          27,\n          14,\n          25\n        ],\n        \"semantic_type\": \"\",\n        \"description\": \"\"\n      }\n    },\n    {\n      \"column\": \"Experience_Years\",\n      \"properties\": {\n        \"dtype\": \"number\",\n        \"std\": 7,\n        \"min\": 1,\n        \"max\": 27,\n        \"num_unique_values\": 15,\n        \"samples\": [\n          6,\n          11,\n          5\n        ],\n        \"semantic_type\": \"\",\n        \"description\": \"\"\n      }\n    },\n    {\n      \"column\": \"Age\",\n      \"properties\": {\n        \"dtype\": \"number\",\n        \"std\": 14,\n        \"min\": 17,\n        \"max\": 62,\n        \"num_unique_values\": 18,\n        \"samples\": [\n          28,\n          21,\n          26\n        ],\n        \"semantic_type\": \"\",\n        \"description\": \"\"\n      }\n    },\n    {\n      \"column\": \"Gender\",\n      \"properties\": {\n        \"dtype\": \"category\",\n        \"num_unique_values\": 2,\n        \"samples\": [\n          \"Male\",\n          \"Female\"\n        ],\n        \"semantic_type\": \"\",\n        \"description\": \"\"\n      }\n    },\n    {\n      \"column\": \"Salary\",\n      \"properties\": {\n        \"dtype\": \"number\",\n        \"std\": 3170123,\n        \"min\": 3000,\n        \"max\": 10000000,\n        \"num_unique_values\": 33,\n        \"samples\": [\n          9300000,\n          930000\n        ],\n        \"semantic_type\": \"\",\n        \"description\": \"\"\n      }\n    }\n  ]\n}"
            }
          },
          "metadata": {},
          "execution_count": 4
        }
      ],
      "source": [
        "import pandas as pd\n",
        "import numpy as np\n",
        "import matplotlib.pyplot as plt\n",
        "import seaborn as sns\n",
        "from sympy import symbols, diff, simplify\n",
        "\n",
        "df=pd.read_csv('/content/Employee_Salary_Dataset.csv')\n",
        "\n",
        "df.head()\n",
        "\n"
      ]
    },
    {
      "cell_type": "code",
      "source": [
        "\n",
        "print(df.shape)\n",
        "\n",
        "print(df.dtypes)\n",
        "\n",
        "print(df.isnull().sum())\n",
        "\n",
        "print(df.describe(include=\"all\"))\n",
        "\n",
        "print(df.duplicated().sum())"
      ],
      "metadata": {
        "id": "SHG1KOH2sn7W",
        "colab": {
          "base_uri": "https://localhost:8080/"
        },
        "outputId": "66a679f7-54e5-41d4-9b11-d1883b0c40b2"
      },
      "execution_count": null,
      "outputs": [
        {
          "output_type": "stream",
          "name": "stdout",
          "text": [
            "(35, 5)\n",
            "ID                   int64\n",
            "Experience_Years     int64\n",
            "Age                  int64\n",
            "Gender              object\n",
            "Salary               int64\n",
            "dtype: object\n",
            "ID                  0\n",
            "Experience_Years    0\n",
            "Age                 0\n",
            "Gender              0\n",
            "Salary              0\n",
            "dtype: int64\n",
            "               ID  Experience_Years        Age  Gender        Salary\n",
            "count   35.000000          35.00000  35.000000      35  3.500000e+01\n",
            "unique        NaN               NaN        NaN       2           NaN\n",
            "top           NaN               NaN        NaN  Female           NaN\n",
            "freq          NaN               NaN        NaN      18           NaN\n",
            "mean    18.000000           9.20000  35.485714     NaN  2.059147e+06\n",
            "std     10.246951           7.55295  14.643552     NaN  3.170124e+06\n",
            "min      1.000000           1.00000  17.000000     NaN  3.000000e+03\n",
            "25%      9.500000           2.50000  22.500000     NaN  2.250000e+04\n",
            "50%     18.000000           6.00000  29.000000     NaN  2.500000e+05\n",
            "75%     26.500000          15.00000  53.500000     NaN  3.270000e+06\n",
            "max     35.000000          27.00000  62.000000     NaN  1.000000e+07\n",
            "0\n"
          ]
        }
      ]
    },
    {
      "cell_type": "markdown",
      "source": [
        "**Part 2 – EDA (Exploratory Data Analysis)**"
      ],
      "metadata": {
        "id": "XkgUUWWIeqdO"
      }
    },
    {
      "cell_type": "code",
      "source": [
        "df[\"Experience_Years\"].hist(bins=20); plt.title(\"Experience Distribution\"); plt.show()\n",
        "df[\"Salary\"].hist(bins=20); plt.title(\"Salary Distribution\"); plt.show()\n",
        "\n",
        "plt.scatter(df[\"Experience_Years\"], df[\"Salary\"])\n",
        "plt.xlabel(\"Experience\"); plt.ylabel(\"Salary\"); plt.title(\"Experience vs Salary\"); plt.show()\n",
        "\n",
        "print(\"Top 5 by Salary:\\n\", df.nlargest(5,\"Salary\"))\n",
        "print(\"Bottom 5 by Experience:\\n\", df.nsmallest(5,\"Experience_Years\"))\n",
        "\n",
        "df.boxplot(column=\"Salary\"); plt.title(\"Salary Outliers\"); plt.show()\n"
      ],
      "metadata": {
        "colab": {
          "base_uri": "https://localhost:8080/",
          "height": 1000
        },
        "id": "M6KLYtMCt2Go",
        "outputId": "6b9b6141-2331-4cca-9c4f-6236c358e488"
      },
      "execution_count": null,
      "outputs": [
        {
          "output_type": "display_data",
          "data": {
            "text/plain": [
              "<Figure size 640x480 with 1 Axes>"
            ],
            "image/png": "[encoded data removed]"
          },
          "metadata": {}
        },
        {
          "output_type": "display_data",
          "data": {
            "text/plain": [
              "<Figure size 640x480 with 1 Axes>"
            ],
            "image/png": "[encoded data removed]"
          },
          "metadata": {}
        },
        {
          "output_type": "display_data",
          "data": {
            "text/plain": [
              "<Figure size 640x480 with 1 Axes>"
            ],
            "image/png": "[encoded data removed]"
          },
          "metadata": {}
        },
        {
          "output_type": "stream",
          "name": "stdout",
          "text": [
            "Top 5 by Salary:\n",
            "     ID  Experience_Years  Age  Gender    Salary\n",
            "27  28                27   62  Female  10000000\n",
            "33  34                19   53  Female   9300000\n",
            "17  18                15   54  Female   7900000\n",
            "34  35                16   49    Male   7600000\n",
            "22  23                 5   29    Male   6845000\n",
            "Bottom 5 by Experience:\n",
            "     ID  Experience_Years  Age  Gender  Salary\n",
            "1    2                 1   21    Male   50000\n",
            "4    5                 1   17    Male   10000\n",
            "23  24                 1   21  Female    6000\n",
            "26  27                 1   18    Male    3000\n",
            "3    4                 2   22    Male   25000\n"
          ]
        },
        {
          "output_type": "display_data",
          "data": {
            "text/plain": [
              "<Figure size 640x480 with 1 Axes>"
            ],
            "image/png": "[encoded data removed]"
          },
          "metadata": {}
        }
      ]
    },
    {
      "cell_type": "markdown",
      "source": [
        "**Part 3: Statistics**"
      ],
      "metadata": {
        "id": "umrGjW44vfhE"
      }
    },
    {
      "cell_type": "code",
      "source": [
        "print(\"Mean Salary:\", df[\"Salary\"].mean())\n",
        "print(\"Median Salary:\", df[\"Salary\"].median())\n",
        "print(\"Mode Salary:\", df[\"Salary\"].mode()[0])\n",
        "print(\"Variance:\", df[\"Salary\"].var())\n",
        "print(\"Std Dev:\", df[\"Salary\"].std())\n",
        "print(\"Correlation (Experience vs Salary):\", df[\"Experience_Years\"].corr(df[\"Salary\"]))\n",
        "\n",
        "df[\"Investment\"] = df[\"Experience_Years\"]*10000\n",
        "df[\"ROI\"] = (df[\"Salary\"] - df[\"Investment\"]) / df[\"Investment\"] * 100\n",
        "print(\"Probaility(ROI>50%) =\", (df[\"ROI\"]>50).mean())"
      ],
      "metadata": {
        "colab": {
          "base_uri": "https://localhost:8080/"
        },
        "id": "bidu0ypKvo2I",
        "outputId": "d30ad72f-87f3-4e69-d13c-17a5d815bf47"
      },
      "execution_count": null,
      "outputs": [
        {
          "output_type": "stream",
          "name": "stdout",
          "text": [
            "Mean Salary: 2059147.142857143\n",
            "Median Salary: 250000.0\n",
            "Mode Salary: 25000\n",
            "Variance: 10049683866903.361\n",
            "Std Dev: 3170123.635901818\n",
            "Correlation (Experience vs Salary): 0.6855999775494617\n",
            "Probability(ROI>50%) = 0.6285714285714286\n"
          ]
        }
      ]
    },
    {
      "cell_type": "markdown",
      "source": [
        "**Part 4: Linear Algebra**\n",
        "\n"
      ],
      "metadata": {
        "id": "zfcDuK9cv3y6"
      }
    },
    {
      "cell_type": "code",
      "source": [
        "invest = df[\"Investment\"].values\n",
        "rev = df[\"Salary\"].values\n",
        "print(\"Dot Product:\", np.dot(invest, rev))\n",
        "features = np.vstack([invest,rev]).T\n",
        "weights = np.array([0.5,0.5])\n",
        "print(\"Matrix Mult (first 5):\", (features @ weights)[:5])"
      ],
      "metadata": {
        "colab": {
          "base_uri": "https://localhost:8080/"
        },
        "id": "gHh7PCehv9Gs",
        "outputId": "12ae9759-0e59-4fa9-a37a-cd27ed67bb7f"
      },
      "execution_count": null,
      "outputs": [
        {
          "output_type": "stream",
          "name": "stdout",
          "text": [
            "Dot Product: 12211846000000\n",
            "Matrix Mult (first 5): [150000.  30000. 100000.  22500.  10000.]\n"
          ]
        }
      ]
    },
    {
      "cell_type": "markdown",
      "source": [
        "**Part 5: Calculus**"
      ],
      "metadata": {
        "id": "M1FBwwxwwMBu"
      }
    },
    {
      "cell_type": "code",
      "source": [
        "from sympy import symbols, diff, simplify\n",
        "I, R = symbols(\"I R\", positive=True)\n",
        "ROI_expr = (R - I) / I\n",
        "dROI_dI = diff(ROI_expr, I)\n",
        "print(\"ROI Expression:\", simplify(ROI_expr))\n",
        "print(\"Derivative wrt I:\", simplify(dROI_dI))"
      ],
      "metadata": {
        "colab": {
          "base_uri": "https://localhost:8080/"
        },
        "id": "inidjs-bwTnQ",
        "outputId": "95605842-6f4d-4395-f164-b029b369af03"
      },
      "execution_count": null,
      "outputs": [
        {
          "output_type": "stream",
          "name": "stdout",
          "text": [
            "ROI Expression: (-I + R)/I\n",
            "Derivative wrt I: -R/I**2\n"
          ]
        }
      ]
    },
    {
      "cell_type": "markdown",
      "source": [
        "**Part 6: Feature Engineering**"
      ],
      "metadata": {
        "id": "fDNQwbgbwpIt"
      }
    },
    {
      "cell_type": "code",
      "source": [
        "df[\"High_Performance\"] = (df[\"ROI\"]>50).astype(int)\n",
        "df[\"Revenue_Per_Thousand_Invested\"] = df[\"Salary\"]/(df[\"Investment\"]/1000)\n",
        "df[\"ROI_Quartile\"] = pd.qcut(df[\"ROI\"],4,labels=[\"Q1\",\"Q2\",\"Q3\",\"Q4\"])\n",
        "print(df.head())"
      ],
      "metadata": {
        "colab": {
          "base_uri": "https://localhost:8080/"
        },
        "id": "OTweTSvWwmSH",
        "outputId": "0dfa9930-6079-40c3-f879-36107454d567"
      },
      "execution_count": null,
      "outputs": [
        {
          "output_type": "stream",
          "name": "stdout",
          "text": [
            "   ID  Experience_Years  Age  Gender  Salary  Investment         ROI  \\\n",
            "0   1                 5   28  Female  250000       50000  400.000000   \n",
            "1   2                 1   21    Male   50000       10000  400.000000   \n",
            "2   3                 3   23  Female  170000       30000  466.666667   \n",
            "3   4                 2   22    Male   25000       20000   25.000000   \n",
            "4   5                 1   17    Male   10000       10000    0.000000   \n",
            "\n",
            "   High_Performance  Revenue_Per_Thousand_Invested ROI_Quartile  \n",
            "0                 1                    5000.000000           Q3  \n",
            "1                 1                    5000.000000           Q3  \n",
            "2                 1                    5666.666667           Q3  \n",
            "3                 0                    1250.000000           Q2  \n",
            "4                 0                    1000.000000           Q2  \n"
          ]
        }
      ]
    },
    {
      "cell_type": "markdown",
      "source": [
        "**Part 7: SQL Simulation**"
      ],
      "metadata": {
        "id": "F3qfqGRKwxry"
      }
    },
    {
      "cell_type": "code",
      "source": [
        "top25 = df[df[\"ROI\"]>=df[\"ROI\"].quantile(0.75)]\n",
        "print(\"Top 25% by ROI:\\n\", top25.sort_values(by=[\"ROI\",\"ID\"],ascending=[False,False]))"
      ],
      "metadata": {
        "colab": {
          "base_uri": "https://localhost:8080/"
        },
        "id": "yKyv5ziqw2R5",
        "outputId": "d5764a1a-b7cc-4639-ded6-390780f3c54c"
      },
      "execution_count": null,
      "outputs": [
        {
          "output_type": "stream",
          "name": "stdout",
          "text": [
            "Top 25% by ROI:\n",
            "     ID  Experience_Years  Age  Gender    Salary  Investment           ROI  \\\n",
            "22  23                 5   29    Male   6845000       50000  13590.000000   \n",
            "17  18                15   54  Female   7900000      150000   5166.666667   \n",
            "33  34                19   53  Female   9300000      190000   4794.736842   \n",
            "34  35                16   49    Male   7600000      160000   4650.000000   \n",
            "20  21                15   54    Male   6570000      150000   4280.000000   \n",
            "12  13                14   39    Male   6000050      140000   4185.750000   \n",
            "27  28                27   62  Female  10000000      270000   3603.703704   \n",
            "28  29                19   54  Female   5000000      190000   2531.578947   \n",
            "11  12                 6   29    Male   1400000       60000   2233.333333   \n",
            "\n",
            "    High_Performance  Revenue_Per_Thousand_Invested ROI_Quartile  \n",
            "22                 1                  136900.000000           Q4  \n",
            "17                 1                   52666.666667           Q4  \n",
            "33                 1                   48947.368421           Q4  \n",
            "34                 1                   47500.000000           Q4  \n",
            "20                 1                   43800.000000           Q4  \n",
            "12                 1                   42857.500000           Q4  \n",
            "27                 1                   37037.037037           Q4  \n",
            "28                 1                   26315.789474           Q4  \n",
            "11                 1                   23333.333333           Q4  \n"
          ]
        }
      ]
    },
    {
      "cell_type": "markdown",
      "source": [
        "**Part-8: Insights**"
      ],
      "metadata": {
        "id": "DkQhtXLNw8VO"
      }
    },
    {
      "cell_type": "code",
      "source": [
        "import pandas as pd\n",
        "import numpy as np\n",
        "import matplotlib.pyplot as plt\n",
        "import seaborn as sns\n",
        "from sympy import symbols, diff, simplify\n",
        "\n",
        "df=pd.read_csv('/content/Employee_Salary_Dataset.csv')\n",
        "\n",
        "# Calculate ROI\n",
        "df[\"Investment\"] = df[\"Experience_Years\"]*10000\n",
        "df[\"ROI\"] = (df[\"Salary\"] - df[\"Investment\"]) / df[\"Investment\"] * 100\n",
        "\n",
        "# Display insights\n",
        "print(\"Average ROI:\", df[\"ROI\"].mean())\n",
        "print(\"Prob(ROI>50%) =\", (df[\"ROI\"]>50).mean())"
      ],
      "metadata": {
        "colab": {
          "base_uri": "https://localhost:8080/"
        },
        "id": "3Gt9usrixB3I",
        "outputId": "80ca71ca-bfbd-4ada-8d33-c799f8341e44"
      },
      "execution_count": null,
      "outputs": [
        {
          "output_type": "stream",
          "name": "stdout",
          "text": [
            "Average ROI: 1466.4494200146833\n",
            "Prob(ROI>50%) = 0.6285714285714286\n"
          ]
        }
      ]
    },
    {
      "cell_type": "markdown",
      "source": [
        "**Part 9:Data Cleaning (Pandas/NumPy)**\n",
        "\n"
      ],
      "metadata": {
        "id": "Pkd9s6iZMRD4"
      }
    },
    {
      "cell_type": "code",
      "source": [
        "import pandas as pd\n",
        "import numpy as np\n",
        "import matplotlib.pyplot as plt\n",
        "import seaborn as sns\n",
        "from sympy import symbols, diff, simplify\n",
        "\n",
        "df=pd.read_csv('/content/Employee_Salary_Dataset.csv')\n",
        "df = df.drop_duplicates().fillna(0)\n",
        "if \"full_name\" in df.columns:\n",
        "    df[\"first_name\"] = df[\"full_name\"].str.split().str[0]\n",
        "if \"city\" in df.columns:\n",
        "    df[\"city\"] = df[\"city\"].str.upper()\n",
        "print(\"Cleaned dataset ready!\")"
      ],
      "metadata": {
        "colab": {
          "base_uri": "https://localhost:8080/"
        },
        "id": "Dzwgt1YfMs1p",
        "outputId": "bbb233b8-9bcf-477a-a960-409ffbcbb8aa"
      },
      "execution_count": null,
      "outputs": [
        {
          "output_type": "stream",
          "name": "stdout",
          "text": [
            "Cleaned dataset ready!\n"
          ]
        }
      ]
    }
  ]
}